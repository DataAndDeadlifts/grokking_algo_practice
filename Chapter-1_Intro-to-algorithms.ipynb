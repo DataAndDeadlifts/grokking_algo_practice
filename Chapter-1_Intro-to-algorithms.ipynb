{
 "cells": [
  {
   "cell_type": "markdown",
   "metadata": {},
   "source": [
    "# 1.1\n",
    "Suppose you have a sorted list of 128 names, and you're searching through it using binary search. What's the maximum number of steps it would take?"
   ]
  },
  {
   "cell_type": "code",
   "execution_count": 8,
   "metadata": {},
   "outputs": [
    {
     "data": {
      "text/plain": [
       "5"
      ]
     },
     "execution_count": 8,
     "metadata": {},
     "output_type": "execute_result"
    }
   ],
   "source": [
    "my_list = [1, 3, 5, 7, 9]\n",
    "\n",
    "# Basic logic\n",
    "low = 0\n",
    "high = len(my_list)-1\n",
    "mid = int(round((low + high) / 2,0))\n",
    "my_list[mid]"
   ]
  },
  {
   "cell_type": "code",
   "execution_count": 81,
   "metadata": {},
   "outputs": [
    {
     "data": {
      "text/plain": [
       "(3, 1)"
      ]
     },
     "execution_count": 81,
     "metadata": {},
     "output_type": "execute_result"
    }
   ],
   "source": [
    "import math\n",
    "\n",
    "def binary_search(lst, item):\n",
    "    \"\"\"\n",
    "    Return the place in the list the item is,\n",
    "    as well as the steps taken to find the answer.\n",
    "    \"\"\"\n",
    "    i = 0\n",
    "    low = 0\n",
    "    high = len(lst) - 1\n",
    "    while low <= high:\n",
    "        # get mid-point, round down\n",
    "        mid = math.floor((high + low) / 2)\n",
    "        guess = lst[mid]\n",
    "        if guess == item:\n",
    "            return mid, i\n",
    "        if guess > item:\n",
    "            high = mid - 1\n",
    "        else:\n",
    "            low = mid + 1\n",
    "        i += 1\n",
    "    return None, i\n",
    "\n",
    "binary_search(my_list, 7)"
   ]
  },
  {
   "cell_type": "code",
   "execution_count": 82,
   "metadata": {},
   "outputs": [
    {
     "name": "stdout",
     "output_type": "stream",
     "text": [
      "128\n"
     ]
    }
   ],
   "source": [
    "import numpy as np\n",
    "test_list = sorted([x[0] for x in np.random.rand(128, 1)])\n",
    "print(len(test_list))"
   ]
  },
  {
   "cell_type": "code",
   "execution_count": 83,
   "metadata": {},
   "outputs": [],
   "source": [
    "step_list = []\n",
    "for i in test_list:\n",
    "    step_list.append(binary_search(test_list, i)[1])"
   ]
  },
  {
   "cell_type": "code",
   "execution_count": 84,
   "metadata": {},
   "outputs": [
    {
     "data": {
      "text/plain": [
       "7"
      ]
     },
     "execution_count": 84,
     "metadata": {},
     "output_type": "execute_result"
    }
   ],
   "source": [
    "max(step_list)"
   ]
  },
  {
   "cell_type": "markdown",
   "metadata": {},
   "source": [
    "In principle the maximum number of steps would be 7."
   ]
  },
  {
   "cell_type": "markdown",
   "metadata": {},
   "source": [
    "# 1.2\n",
    "Suppose you double the size of the list. What's the maximum number of steps now?\n",
    "\n",
    "In principle the maximum number of steps would be 8."
   ]
  },
  {
   "cell_type": "code",
   "execution_count": 85,
   "metadata": {},
   "outputs": [
    {
     "name": "stdout",
     "output_type": "stream",
     "text": [
      "256\n"
     ]
    },
    {
     "data": {
      "text/plain": [
       "8"
      ]
     },
     "execution_count": 85,
     "metadata": {},
     "output_type": "execute_result"
    }
   ],
   "source": [
    "import numpy as np\n",
    "test_list = sorted([x[0] for x in np.random.rand(128*2, 1)])\n",
    "print(len(test_list))\n",
    "\n",
    "step_list = []\n",
    "for i in test_list:\n",
    "    step_list.append(binary_search(test_list, i)[1])\n",
    "    \n",
    "max(step_list)"
   ]
  },
  {
   "cell_type": "markdown",
   "metadata": {},
   "source": [
    "# 1.3\n",
    "O(log n) - find the name, record the number!\n",
    "\n",
    "# 1.4\n",
    "O(n) - search every entry!\n",
    "\n",
    "# 1.5\n",
    "O(n) - read every entry!\n",
    "\n",
    "# 1.6\n",
    "Still O(n)!"
   ]
  },
  {
   "cell_type": "code",
   "execution_count": null,
   "metadata": {},
   "outputs": [],
   "source": []
  }
 ],
 "metadata": {
  "kernelspec": {
   "display_name": "Python 3",
   "language": "python",
   "name": "python3"
  },
  "language_info": {
   "codemirror_mode": {
    "name": "ipython",
    "version": 3
   },
   "file_extension": ".py",
   "mimetype": "text/x-python",
   "name": "python",
   "nbconvert_exporter": "python",
   "pygments_lexer": "ipython3",
   "version": "3.6.6"
  }
 },
 "nbformat": 4,
 "nbformat_minor": 2
}
