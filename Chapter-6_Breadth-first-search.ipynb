{
 "cells": [
  {
   "cell_type": "markdown",
   "metadata": {},
   "source": [
    "# 6.1\n",
    "Find the length of the shortest path from start to finish.\n",
    "\n",
    "The length is two but lets see if we can find it ourselves."
   ]
  },
  {
   "cell_type": "code",
   "execution_count": 1,
   "metadata": {},
   "outputs": [],
   "source": [
    "graph = {}\n",
    "graph[0] = [1, 2]\n",
    "graph[1] = [3, 4]\n",
    "graph[2] = [3, 5]\n",
    "graph[3] = []\n",
    "graph[4] = []\n",
    "graph[5] = [4]\n",
    "\n",
    "finish = 4"
   ]
  },
  {
   "cell_type": "code",
   "execution_count": 2,
   "metadata": {},
   "outputs": [
    {
     "data": {
      "text/plain": [
       "2"
      ]
     },
     "execution_count": 2,
     "metadata": {},
     "output_type": "execute_result"
    }
   ],
   "source": [
    "from collections import deque\n",
    "\n",
    "def bfs(graph, start, finish):\n",
    "    search_queue = deque()\n",
    "    search_queue += graph[start]\n",
    "    searched = [start]\n",
    "    jumps = 1\n",
    "    found = False\n",
    "    while search_queue:\n",
    "        # Add new links to search_queue\n",
    "        for node in list(search_queue):\n",
    "            if node == finish:\n",
    "                return jumps\n",
    "            else:\n",
    "                # Record searched nodes\n",
    "                search_queue.pop()\n",
    "                searched.append(node)\n",
    "                search_queue += [x for x in graph[node] if x not in searched]\n",
    "                if finish in graph[node]:\n",
    "                    return jumps + 1\n",
    "        jumps += 1\n",
    "    return False\n",
    "\n",
    "bfs(graph, 0, 4)"
   ]
  },
  {
   "cell_type": "markdown",
   "metadata": {},
   "source": [
    "# 6.2\n",
    "Find the length of the shortest path from \"cab\" to \"bat\""
   ]
  },
  {
   "cell_type": "code",
   "execution_count": 3,
   "metadata": {},
   "outputs": [
    {
     "data": {
      "text/plain": [
       "2"
      ]
     },
     "execution_count": 3,
     "metadata": {},
     "output_type": "execute_result"
    }
   ],
   "source": [
    "word_graph = {}\n",
    "word_graph[\"CAB\"] = [\"CAT\",\"CAR\"]\n",
    "word_graph[\"CAR\"] = [\"CAT\",\"BAR\"]\n",
    "word_graph[\"BAR\"] = [\"BAT\"]\n",
    "word_graph[\"CAT\"] = [\"MAT\",\"BAT\"]\n",
    "word_graph[\"MAT\"] = [\"BAT\"]\n",
    "word_graph[\"BAT\"] = []\n",
    "\n",
    "bfs(word_graph, \"CAB\", \"BAT\")"
   ]
  },
  {
   "cell_type": "markdown",
   "metadata": {},
   "source": [
    "# 6.3\n",
    "\n",
    "The graph is like so:"
   ]
  },
  {
   "cell_type": "code",
   "execution_count": 4,
   "metadata": {},
   "outputs": [],
   "source": [
    "wake_up_graph = {}\n",
    "wake_up_graph['WAKE UP'] = [\"SHOWER\",\"BRUSH TEETH\"]\n",
    "wake_up_graph['BRUSH TEETH'] = [\"EAT BREAKFAST\"]\n",
    "wake_up_graph[\"SHOWER\"] = []"
   ]
  },
  {
   "cell_type": "markdown",
   "metadata": {},
   "source": [
    "A: Not valid\n",
    "\n",
    "B: Valid\n",
    "\n",
    "C: Not valid\n",
    "\n",
    "# 6.4\n",
    "1. Wake Up\n",
    "2. Exercise\n",
    "3. Shower\n",
    "4. Get Dressed\n",
    "5. Brush Teeth\n",
    "6. Eat Breakfast\n",
    "7. Pack Lunch\n",
    "\n",
    "# 6.5\n",
    "A: Tree\n",
    "\n",
    "B: Not a tree\n",
    "\n",
    "C: Tree"
   ]
  },
  {
   "cell_type": "code",
   "execution_count": null,
   "metadata": {},
   "outputs": [],
   "source": []
  }
 ],
 "metadata": {
  "kernelspec": {
   "display_name": "Python 3",
   "language": "python",
   "name": "python3"
  },
  "language_info": {
   "codemirror_mode": {
    "name": "ipython",
    "version": 3
   },
   "file_extension": ".py",
   "mimetype": "text/x-python",
   "name": "python",
   "nbconvert_exporter": "python",
   "pygments_lexer": "ipython3",
   "version": "3.6.6"
  }
 },
 "nbformat": 4,
 "nbformat_minor": 2
}
