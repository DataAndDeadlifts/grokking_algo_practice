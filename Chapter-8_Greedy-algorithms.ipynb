{
 "cells": [
  {
   "cell_type": "markdown",
   "metadata": {},
   "source": [
    "# 8.1\n",
    "\n",
    "Greedy solution (bottom-up solution): \n",
    "\n",
    "1. Find largest box, pack in the truck\n",
    "2. Find largest box by volume that fits in space between largest box packed and ceiling\n",
    "3. Return to step 1\n",
    "\n",
    "More optimal solution (top-down solution):\n",
    "\n",
    "1. Pair boxes based on their surface area and then height relative to the ceiling\n",
    "2. Pair pairs of boxes to fill floor space efficiently\n",
    "3. Pack boxes so that large volume boxes are in back and low volume boxes near front\n",
    "\n",
    "# 8.2\n",
    "\n",
    "Greedy:\n",
    "\n",
    "1. Find highest value item\n",
    "2. See item from step 1\n",
    "3. Return to step 1\n",
    "\n",
    "Optimal:\n",
    "\n",
    "1. Start at highest item, see it\n",
    "2. Find nearest item with highest score, see it\n",
    "3. Repeat step 2"
   ]
  },
  {
   "cell_type": "markdown",
   "metadata": {},
   "source": [
    "# 8.3 Quicksort\n",
    "Quicksort is not greedy. Quicksort doesn't pick a \"local optimum\" before pivoting, so it isn't greedy by definition.\n",
    "\n",
    "# 8.4 Breadth-first Search\n",
    "BFS is greedy because it evaluates each leaf in the graph regardless of its value.\n",
    "\n",
    "# 8.5 Djikstra's Algorithm\n",
    "Djikstra is greedy because it does evaluate local optimum.\n",
    "\n",
    "# 8.6 \n",
    "Yes this is an NP-complete problem because each route and its options have to be evaluated.\n",
    "\n",
    "# 8.7\n",
    "Yes this is an NP-complete problem because each person's clique has to be evaluated.\n",
    "\n",
    "# 8.8\n",
    "Yes this is an NP-complete problem because each state and its adjacencies have to be evaluated compared to the number of colors available."
   ]
  },
  {
   "cell_type": "code",
   "execution_count": null,
   "metadata": {},
   "outputs": [],
   "source": []
  }
 ],
 "metadata": {
  "kernelspec": {
   "display_name": "Python 3",
   "language": "python",
   "name": "python3"
  },
  "language_info": {
   "codemirror_mode": {
    "name": "ipython",
    "version": 3
   },
   "file_extension": ".py",
   "mimetype": "text/x-python",
   "name": "python",
   "nbconvert_exporter": "python",
   "pygments_lexer": "ipython3",
   "version": "3.6.6"
  }
 },
 "nbformat": 4,
 "nbformat_minor": 2
}
