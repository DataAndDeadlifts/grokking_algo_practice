{
 "cells": [
  {
   "cell_type": "markdown",
   "metadata": {},
   "source": [
    "# 4.1\n",
    "Find the sum of a list recursively."
   ]
  },
  {
   "cell_type": "code",
   "execution_count": 1,
   "metadata": {},
   "outputs": [
    {
     "name": "stdout",
     "output_type": "stream",
     "text": [
      "6 [6]\n",
      "11 [5, 6]\n",
      "15 [4, 5, 6]\n",
      "17 [2, 4, 5, 6]\n",
      "18 [1, 2, 4, 5, 6]\n"
     ]
    },
    {
     "data": {
      "text/plain": [
       "18"
      ]
     },
     "execution_count": 1,
     "metadata": {},
     "output_type": "execute_result"
    }
   ],
   "source": [
    "def rec_sum(arr):\n",
    "    total = 0\n",
    "    if len(arr) < 1:\n",
    "        return 0\n",
    "    else:\n",
    "        total = arr[0] + rec_sum(arr[1:])\n",
    "        # For illustrative purposes\n",
    "        print(total, arr)\n",
    "    return total\n",
    "\n",
    "rec_sum([1,2,4,5,6])"
   ]
  },
  {
   "cell_type": "markdown",
   "metadata": {},
   "source": [
    "# 4.2\n",
    "Find the length of a list recursively."
   ]
  },
  {
   "cell_type": "code",
   "execution_count": 2,
   "metadata": {},
   "outputs": [
    {
     "name": "stdout",
     "output_type": "stream",
     "text": [
      "1 [0]\n",
      "2 [8, 0]\n",
      "3 [6, 8, 0]\n",
      "4 [5, 6, 8, 0]\n",
      "5 [4, 5, 6, 8, 0]\n",
      "6 [2, 4, 5, 6, 8, 0]\n",
      "7 [1, 2, 4, 5, 6, 8, 0]\n"
     ]
    },
    {
     "data": {
      "text/plain": [
       "7"
      ]
     },
     "execution_count": 2,
     "metadata": {},
     "output_type": "execute_result"
    }
   ],
   "source": [
    "def rec_len(arr, print_process=False):\n",
    "    total = 0\n",
    "    if len(arr) < 1:\n",
    "        return 0\n",
    "    else:\n",
    "        total += 1\n",
    "        total += rec_len(arr[1:], print_process)\n",
    "        if print_process:\n",
    "            print(total, arr)\n",
    "    return total\n",
    "\n",
    "rec_len([1,2,4,5,6,8,0], print_process=True)"
   ]
  },
  {
   "cell_type": "markdown",
   "metadata": {},
   "source": [
    "# 4.3\n",
    "Find the maximum number in a list."
   ]
  },
  {
   "cell_type": "code",
   "execution_count": 3,
   "metadata": {},
   "outputs": [
    {
     "name": "stdout",
     "output_type": "stream",
     "text": [
      "10 [5, 10]\n",
      "10 [1, 5, 10]\n",
      "10 [3, 1, 5, 10]\n",
      "11 [11, 3, 1, 5, 10]\n",
      "11 [2, 11, 3, 1, 5, 10]\n",
      "11 [1, 2, 11, 3, 1, 5, 10]\n",
      "11\n"
     ]
    }
   ],
   "source": [
    "def rec_max(arr, max_val = None):\n",
    "    # Base case\n",
    "    if rec_len(arr, False) == 1:\n",
    "        return arr[0]\n",
    "    # Recursive case\n",
    "    else:\n",
    "        max_val = arr[0]\n",
    "        check_num = rec_max(arr[1:])\n",
    "        if max_val < check_num:\n",
    "            max_val = check_num\n",
    "    print(max_val, arr)\n",
    "    return max_val\n",
    "    \n",
    "print(rec_max([1,2,11,3,1,5,10]))"
   ]
  },
  {
   "cell_type": "markdown",
   "metadata": {},
   "source": [
    "# 4.4\n",
    "Base case, recursive case of divide-and-conquer:\n",
    "\n",
    "Base case: Element not found in a fraction of the array - return \"Not Found\"\n",
    "\n",
    "Recursive case: 3 outcomes, if element is the middle element - return it's index. If it's lower, call on low, mid-1. If it's higher, call on high, mid+1."
   ]
  },
  {
   "cell_type": "markdown",
   "metadata": {},
   "source": [
    "# Quicksort"
   ]
  },
  {
   "cell_type": "code",
   "execution_count": 4,
   "metadata": {},
   "outputs": [
    {
     "name": "stdout",
     "output_type": "stream",
     "text": [
      "[2, 3, 5, 10]\n"
     ]
    }
   ],
   "source": [
    "import random\n",
    "\n",
    "def quicksort(array, random_piv=True):\n",
    "    if len(array) < 2:\n",
    "        return array\n",
    "    else:\n",
    "        if random_piv:\n",
    "            rand_ind = random.randint(0, len(array)-1)\n",
    "            pivot = array[rand_ind]\n",
    "            del array[rand_ind]\n",
    "        \n",
    "            less = [i for i in array if i <= pivot]\n",
    "            greater = [i for i in array if i > pivot]\n",
    "        \n",
    "        else:\n",
    "            pivot = array[0]\n",
    "            less = [i for i in array[1:] if i <= pivot]\n",
    "            greater = [i for i in array[1:] if i > pivot]\n",
    "            \n",
    "        return quicksort(less) + [pivot] + quicksort(greater)\n",
    "    \n",
    "print(quicksort([10, 5, 2, 3], True))    "
   ]
  },
  {
   "cell_type": "markdown",
   "metadata": {},
   "source": [
    "# 4.5\n",
    "O(n) because you work through each item.\n",
    "\n",
    "# 4.6\n",
    "Still O(n) because you work through each item.\n",
    "\n",
    "# 4.7\n",
    "O(1) because it's always just one element.\n",
    "\n",
    "# 4.8\n",
    "O(n^2)"
   ]
  },
  {
   "cell_type": "code",
   "execution_count": null,
   "metadata": {},
   "outputs": [],
   "source": []
  }
 ],
 "metadata": {
  "kernelspec": {
   "display_name": "Python 3",
   "language": "python",
   "name": "python3"
  },
  "language_info": {
   "codemirror_mode": {
    "name": "ipython",
    "version": 3
   },
   "file_extension": ".py",
   "mimetype": "text/x-python",
   "name": "python",
   "nbconvert_exporter": "python",
   "pygments_lexer": "ipython3",
   "version": "3.6.6"
  }
 },
 "nbformat": 4,
 "nbformat_minor": 2
}
