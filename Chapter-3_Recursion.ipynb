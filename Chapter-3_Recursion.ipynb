{
 "cells": [
  {
   "cell_type": "markdown",
   "metadata": {},
   "source": [
    "# 3.1\n",
    "Based on the call stack in the problem I can see that Greet(Maggie) was called first and Greet2(Maggie) was called within Greet(Maggie).\n",
    "\n",
    "The stack has not completed either function and Greet(Maggie) is partially completed at the very least. If it printed it's first line \"Hello Maggie!\", then Greet2(Maggie) is about to complete, then Greet(Maggie) finally completing afterwards.\n",
    "\n",
    "# 3.2\n",
    "If I write a recursive function forever, the computer will continually add calls to the stack and saving their uncompleted memory allocations indefinitely. Eventually this will fill up the memory of the computer and cause the stack to fail - Stack Overflow!"
   ]
  },
  {
   "cell_type": "code",
   "execution_count": null,
   "metadata": {},
   "outputs": [],
   "source": []
  }
 ],
 "metadata": {
  "kernelspec": {
   "display_name": "Python 3",
   "language": "python",
   "name": "python3"
  },
  "language_info": {
   "codemirror_mode": {
    "name": "ipython",
    "version": 3
   },
   "file_extension": ".py",
   "mimetype": "text/x-python",
   "name": "python",
   "nbconvert_exporter": "python",
   "pygments_lexer": "ipython3",
   "version": "3.6.6"
  }
 },
 "nbformat": 4,
 "nbformat_minor": 2
}
