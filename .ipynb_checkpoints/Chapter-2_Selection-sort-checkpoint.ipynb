{
 "cells": [
  {
   "cell_type": "markdown",
   "metadata": {},
   "source": [
    "# 2.1\n",
    "To keep track of something with lots of inserts and removals, you should use a list. Linked lists have slow reads when read randomly and fast inserts. Arrays have fast random reads and slow inserts.\n",
    "\n",
    "Because we are adding and removing often and are reading every element and not randomly, linked lists are best here.\n",
    "\n",
    "# 2.2\n",
    "Linked List. No need for random read, lots of need for insert/removal.\n",
    "\n",
    "# 2.3\n",
    "Random access --> Array\n",
    "\n",
    "# 2.4\n",
    "The downside of an array is that inserts are quite slow due to the need to shift all elements to accomodate the new element. for the search feature of the list the array is quite nice, otherwise it stinks for managing the shifting user list.\n",
    "\n",
    "# 2.5\n",
    "If the array of linked lists only shifts when linked lists get split (LA-LL, LM-LZ) or new ones are added or even deleted and the event is rare, then the up-front array is ideal and faster than using a linked list for everything.\n",
    "\n",
    "For the linked lists - if insertions and deletions happen more often than searches, then the linked lists are alright. If searches happen much more often than the insertions/deletions, then an array is better.\n",
    "\n",
    "# Selection Sort ex."
   ]
  },
  {
   "cell_type": "code",
   "execution_count": 1,
   "metadata": {},
   "outputs": [
    {
     "name": "stdout",
     "output_type": "stream",
     "text": [
      "[2, 3, 5, 6, 10]\n",
      "Wall time: 0 ns\n"
     ]
    }
   ],
   "source": [
    "%%time\n",
    "\n",
    "def findSmallest(arr):\n",
    "    smallest = arr[0]\n",
    "    smallest_index = 0\n",
    "    for i in range(1, len(arr)):\n",
    "        if arr[i] < smallest:\n",
    "            smallest = arr[i]\n",
    "            smallest_index = i\n",
    "    return smallest_index\n",
    "\n",
    "def selectionSort(arr):\n",
    "    newArr = []\n",
    "    for i in range(len(arr)):\n",
    "        smallest = findSmallest(arr)\n",
    "        newArr.append(arr.pop(smallest))\n",
    "    return newArr\n",
    "\n",
    "testarr = [5, 3, 6, 2, 10]\n",
    "sorted_testarr = selectionSort(testarr)\n",
    "print(sorted_testarr)"
   ]
  },
  {
   "cell_type": "code",
   "execution_count": 2,
   "metadata": {},
   "outputs": [
    {
     "name": "stdout",
     "output_type": "stream",
     "text": [
      "[2, 3, 5, 6, 10]\n",
      "Wall time: 1 ms\n"
     ]
    }
   ],
   "source": [
    "%%time\n",
    "testarr = [5, 3, 6, 2, 10]\n",
    "testarr.sort()\n",
    "print(testarr)"
   ]
  },
  {
   "cell_type": "code",
   "execution_count": null,
   "metadata": {},
   "outputs": [],
   "source": []
  }
 ],
 "metadata": {
  "kernelspec": {
   "display_name": "Python 3",
   "language": "python",
   "name": "python3"
  },
  "language_info": {
   "codemirror_mode": {
    "name": "ipython",
    "version": 3
   },
   "file_extension": ".py",
   "mimetype": "text/x-python",
   "name": "python",
   "nbconvert_exporter": "python",
   "pygments_lexer": "ipython3",
   "version": "3.6.6"
  }
 },
 "nbformat": 4,
 "nbformat_minor": 2
}
