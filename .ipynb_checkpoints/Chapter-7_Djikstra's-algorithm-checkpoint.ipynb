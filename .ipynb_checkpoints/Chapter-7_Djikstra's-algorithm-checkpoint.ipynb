{
 "cells": [
  {
   "cell_type": "markdown",
   "metadata": {},
   "source": [
    "# Djikstra's Algorithm"
   ]
  },
  {
   "cell_type": "code",
   "execution_count": 1,
   "metadata": {},
   "outputs": [
    {
     "data": {
      "text/plain": [
       "(35,\n",
       " {'LP': 'Book',\n",
       "  'Poster': 'Book',\n",
       "  'start': 'Book',\n",
       "  'Guitar': 'LP',\n",
       "  'Drums': 'LP',\n",
       "  'Piano': 'Drums'})"
      ]
     },
     "execution_count": 1,
     "metadata": {},
     "output_type": "execute_result"
    }
   ],
   "source": [
    "def find_lowest_cost_node(costs, searched, finish):\n",
    "    lowest_cost = float(\"inf\")\n",
    "    lowest_cost_node = None\n",
    "    for node in costs:\n",
    "        cost = costs[node]\n",
    "        if cost < lowest_cost and node not in searched:\n",
    "            lowest_cost = cost\n",
    "            lowest_cost_node = node\n",
    "    return lowest_cost_node\n",
    "\n",
    "def djikstra(graph, start, finish):\n",
    "    \"\"\"\n",
    "    Take in weighted graph, calculate shortest time from start to finish.\n",
    "    \"\"\"\n",
    "    # Init working graph\n",
    "    infinity = float(\"inf\")\n",
    "    \n",
    "    # Init costs\n",
    "    costs = {key:infinity for key in graph if key != start}\n",
    "    \n",
    "    for key in graph[start]:\n",
    "        costs[key] = graph[start][key]\n",
    "            \n",
    "    # Init parents\n",
    "    parents = {key:start for key in graph[start]}\n",
    "    parents[\"start\"] = start\n",
    "    searched = []\n",
    "        \n",
    "    node = find_lowest_cost_node(costs, searched, finish)\n",
    "    while node is not None:\n",
    "        cost = costs[node]\n",
    "        neighbors = graph[node]\n",
    "        for n in neighbors.keys():\n",
    "            new_cost = cost + neighbors[n]\n",
    "            if n not in costs:\n",
    "                costs[n] = new_cost\n",
    "                parents[n] = node\n",
    "            elif costs[n] > new_cost:\n",
    "                costs[n] = new_cost\n",
    "                parents[n] = node\n",
    "\n",
    "        searched.append(node)\n",
    "        node = find_lowest_cost_node(costs, searched, finish)\n",
    "    return costs[finish], parents\n",
    "        \n",
    "test_graph = {\n",
    "    \"Book\":{\n",
    "        \"LP\":5,\n",
    "        \"Poster\":0\n",
    "    },\n",
    "    \"LP\":{\n",
    "        \"Guitar\":15,\n",
    "        \"Drums\":20\n",
    "    },\n",
    "    \"Poster\":{\n",
    "        \"Guitar\":30,\n",
    "        \"Drums\":35\n",
    "    },\n",
    "    \"Guitar\":{\n",
    "        \"Piano\":20\n",
    "    },\n",
    "    \"Drums\":{\n",
    "        \"Piano\":10\n",
    "    },\n",
    "    \"Piano\":{}\n",
    "}\n",
    "\n",
    "djikstra(test_graph, \"Book\", \"Piano\")"
   ]
  },
  {
   "cell_type": "code",
   "execution_count": 2,
   "metadata": {},
   "outputs": [],
   "source": [
    "assert djikstra(test_graph, \"Book\", \"Piano\")[0] == 35\n",
    "assert djikstra(test_graph, \"Book\", \"Guitar\")[0] == 20\n",
    "assert djikstra(test_graph, \"Poster\", \"Piano\")[0] == 45"
   ]
  },
  {
   "cell_type": "markdown",
   "metadata": {},
   "source": [
    "# 7.1"
   ]
  },
  {
   "cell_type": "code",
   "execution_count": 3,
   "metadata": {},
   "outputs": [
    {
     "data": {
      "text/plain": [
       "(8, {1: 0, 2: 0, 'start': 0, 4: 1, 3: 1, 5: 4})"
      ]
     },
     "execution_count": 3,
     "metadata": {},
     "output_type": "execute_result"
    }
   ],
   "source": [
    "graph_A = {\n",
    "    0:{\n",
    "        1:5,\n",
    "        2:2\n",
    "    },\n",
    "    1:{\n",
    "        3:4,\n",
    "        4:2\n",
    "    },\n",
    "    2:{\n",
    "        1:8,\n",
    "        4:7\n",
    "    },\n",
    "    3:{\n",
    "        4:6,\n",
    "        5:3\n",
    "    },\n",
    "    4:{\n",
    "        5:1\n",
    "    },\n",
    "    5:{}\n",
    "}\n",
    "\n",
    "djikstra(graph_A, 0, 5)"
   ]
  },
  {
   "cell_type": "code",
   "execution_count": 4,
   "metadata": {},
   "outputs": [
    {
     "data": {
      "text/plain": [
       "(60, {1: 0, 'start': 0, 2: 1, 3: 2, 4: 2})"
      ]
     },
     "execution_count": 4,
     "metadata": {},
     "output_type": "execute_result"
    }
   ],
   "source": [
    "graph_B = {\n",
    "    0:{\n",
    "        1:10,\n",
    "    },\n",
    "    1:{\n",
    "        2:20\n",
    "    },\n",
    "    2:{\n",
    "        3:1,\n",
    "        4:30\n",
    "    },\n",
    "    3:{\n",
    "        1:1\n",
    "    },\n",
    "    4:{}\n",
    "}\n",
    "\n",
    "djikstra(graph_B, 0, 4)"
   ]
  },
  {
   "cell_type": "code",
   "execution_count": 5,
   "metadata": {},
   "outputs": [
    {
     "data": {
      "text/plain": [
       "(4, {1: 0, 2: 0, 'start': 0, 3: 1, 4: 1})"
      ]
     },
     "execution_count": 5,
     "metadata": {},
     "output_type": "execute_result"
    }
   ],
   "source": [
    "graph_C = {\n",
    "    0:{\n",
    "        1:2,\n",
    "        2:2\n",
    "    },\n",
    "    1:{\n",
    "        3:2,\n",
    "        4:2\n",
    "    },\n",
    "    2:{\n",
    "        1:2\n",
    "    },\n",
    "    3:{\n",
    "        2:-1,\n",
    "        4:2\n",
    "    },\n",
    "    4:{}\n",
    "}\n",
    "\n",
    "djikstra(graph_C, 0, 4)"
   ]
  },
  {
   "cell_type": "code",
   "execution_count": null,
   "metadata": {},
   "outputs": [],
   "source": []
  }
 ],
 "metadata": {
  "kernelspec": {
   "display_name": "Python 3",
   "language": "python",
   "name": "python3"
  },
  "language_info": {
   "codemirror_mode": {
    "name": "ipython",
    "version": 3
   },
   "file_extension": ".py",
   "mimetype": "text/x-python",
   "name": "python",
   "nbconvert_exporter": "python",
   "pygments_lexer": "ipython3",
   "version": "3.6.6"
  }
 },
 "nbformat": 4,
 "nbformat_minor": 2
}
